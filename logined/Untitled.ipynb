{
 "cells": [
  {
   "cell_type": "code",
   "execution_count": 43,
   "metadata": {},
   "outputs": [],
   "source": [
    "import json\n",
    "import time\n",
    "from selenium import webdriver\n",
    "from selenium.webdriver import ActionChains\n",
    "from webdriver_manager.chrome import ChromeDriverManager\n",
    "\n",
    "\n",
    "class Crack():\n",
    "    def __init__(self):\n",
    "        chrome_options = webdriver.ChromeOptions()\n",
    "        # chrome_options.add_argument('--headless')\n",
    "        chrome_options.add_argument(\"--no-sandbox\")\n",
    "        chrome_options.add_argument(\"start-maximized\")\n",
    "        chrome_options.add_argument(\"disable-infobars\")\n",
    "        chrome_options.add_argument(\"--disable-extensions\")\n",
    "        chrome_options.add_argument(\"user-agent=Mozilla/5.0 (Macintosh; Intel Mac OS X 10_15_4) AppleWebKit/537.36 (KHTML, like Gecko) Chrome/81.0.4044.138 Safari/537.36\")\n",
    "\n",
    "        self.driver = webdriver.Chrome(ChromeDriverManager().install(), chrome_options=chrome_options)\n",
    "\n",
    "        self.driver.get('https://adv.mintegral.com/cn')\n",
    "        # driver.page_source\n",
    "\n",
    "    def move_to_element(self):\n",
    "        # 移动到点击位置\n",
    "        self.driver.switch_to.frame(0)\n",
    "        driver = self.driver\n",
    "        box_ele = client.driver.find_element_by_css_selector('div.recaptcha-checkbox-border')\n",
    "        webdriver.ActionChains(driver).move_to_element(ele).perform()\n",
    "        # 记录模拟点击的文件，并使用该文件进行移动\n",
    "        self.move()\n",
    "        webdriver.ActionChains(driver).click().perform()\n",
    "\n",
    "    def move(self):\n",
    "        \"\"\" Move mouse by using given track \"\"\" \n",
    "        self.track = []                                                                                        \n",
    "        with open('track.txt','r') as f:                                                                \n",
    "            self.track = json.load(f)                                                          \n",
    "        for offset, sleeptime in self.track:\n",
    "            print(x,y)\n",
    "            x, y = offset                                                                                      \n",
    "            ActionChains(self.driver).move_by_offset(x,y).perform()                                            \n",
    "            time.sleep(sleeptime)                                                                              "
   ]
  },
  {
   "cell_type": "code",
   "execution_count": 44,
   "metadata": {},
   "outputs": [
    {
     "name": "stderr",
     "output_type": "stream",
     "text": [
      "[WDM] - Current google-chrome version is 86.0.4240\n",
      "[WDM] - Get LATEST driver version for 86.0.4240\n"
     ]
    },
    {
     "name": "stdout",
     "output_type": "stream",
     "text": [
      " \n"
     ]
    },
    {
     "name": "stderr",
     "output_type": "stream",
     "text": [
      "[WDM] - Get LATEST driver version for 86.0.4240\n",
      "[WDM] - Trying to download new driver from http://chromedriver.storage.googleapis.com/86.0.4240.22/chromedriver_win32.zip\n",
      "[WDM] - Driver has been saved in cache [C:\\Users\\Administrator\\.wdm\\drivers\\chromedriver\\win32\\86.0.4240.22]\n",
      "c:\\users\\administrator\\appdata\\local\\programs\\python\\python36\\lib\\site-packages\\ipykernel_launcher.py:18: DeprecationWarning: use options instead of chrome_options\n"
     ]
    }
   ],
   "source": [
    "client = Crack()"
   ]
  },
  {
   "cell_type": "code",
   "execution_count": 45,
   "metadata": {},
   "outputs": [],
   "source": [
    "client.driver.switch_to.frame(0)\n",
    "box_ele = client.driver.find_element_by_css_selector('div.recaptcha-checkbox-border')\n",
    "box_ele.value_of_css_property('display')\n",
    "# block\n",
    "box_ele.value_of_css_property('display')\n",
    "# none"
   ]
  },
  {
   "cell_type": "code",
   "execution_count": 50,
   "metadata": {},
   "outputs": [
    {
     "data": {
      "text/plain": [
       "'block'"
      ]
     },
     "execution_count": 50,
     "metadata": {},
     "output_type": "execute_result"
    }
   ],
   "source": []
  },
  {
   "cell_type": "code",
   "execution_count": 40,
   "metadata": {},
   "outputs": [],
   "source": [
    "webdriver.ActionChains(client.driver).move_to_element(box_ele).perform()\n",
    "track = []\n",
    "with open('track.txt','r') as f:\n",
    "    track = json.load(f)"
   ]
  },
  {
   "cell_type": "code",
   "execution_count": 41,
   "metadata": {},
   "outputs": [],
   "source": [
    "for offset, sleeptime in track:\n",
    "    x, y = offset\n",
    "#     print(x,  y)\n",
    "    ActionChains(client.driver).move_by_offset(x,y).perform()\n",
    "    time.sleep(sleeptime)\n",
    "    webdriver.ActionChains(client.driver).click().perform()"
   ]
  },
  {
   "cell_type": "code",
   "execution_count": 51,
   "metadata": {},
   "outputs": [
    {
     "data": {
      "text/plain": [
       "'none'"
      ]
     },
     "execution_count": 51,
     "metadata": {},
     "output_type": "execute_result"
    }
   ],
   "source": []
  },
  {
   "cell_type": "code",
   "execution_count": null,
   "metadata": {},
   "outputs": [],
   "source": []
  }
 ],
 "metadata": {
  "kernelspec": {
   "display_name": "Python 3",
   "language": "python",
   "name": "python3"
  },
  "language_info": {
   "codemirror_mode": {
    "name": "ipython",
    "version": 3
   },
   "file_extension": ".py",
   "mimetype": "text/x-python",
   "name": "python",
   "nbconvert_exporter": "python",
   "pygments_lexer": "ipython3",
   "version": "3.6.8"
  }
 },
 "nbformat": 4,
 "nbformat_minor": 4
}
